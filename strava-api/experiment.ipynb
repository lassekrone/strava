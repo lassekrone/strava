{
 "cells": [
  {
   "cell_type": "code",
   "execution_count": 2,
   "metadata": {},
   "outputs": [],
   "source": [
    "# import data from data.json\n",
    "import json\n",
    "import os\n",
    "import pandas as pd\n",
    "import polyline\n",
    "import folium\n",
    "import matplotlib as plt\n",
    "import numpy as np\n",
    "import calmap\n",
    "\n",
    "with open('data.json', 'r') as f:\n",
    "    data = json.load(f)\n"
   ]
  },
  {
   "cell_type": "code",
   "execution_count": 3,
   "metadata": {},
   "outputs": [
    {
     "name": "stdout",
     "output_type": "stream",
     "text": [
      "725\n"
     ]
    }
   ],
   "source": [
    "print(len(data))"
   ]
  },
  {
   "cell_type": "code",
   "execution_count": 160,
   "metadata": {},
   "outputs": [],
   "source": [
    "#calmap.calendarplot(data)\n",
    "activities = pd.json_normalize(data)"
   ]
  },
  {
   "cell_type": "code",
   "execution_count": 161,
   "metadata": {},
   "outputs": [],
   "source": [
    "# convert start_date from string to datetime and set as index\n",
    "activities.index = pd.to_datetime(activities['start_date_local']).values\n"
   ]
  },
  {
   "cell_type": "code",
   "execution_count": 163,
   "metadata": {},
   "outputs": [],
   "source": [
    "daily_distance = activities['distance'].resample('D').sum() / 1000\n",
    "daily_distance = daily_distance.fillna(0)\n"
   ]
  },
  {
   "cell_type": "code",
   "execution_count": 164,
   "metadata": {},
   "outputs": [
    {
     "data": {
      "text/plain": [
       "2020-11-07     7.1007\n",
       "2020-11-08     0.0000\n",
       "2020-11-09     0.0000\n",
       "2020-11-10     4.9417\n",
       "2020-11-11     8.8243\n",
       "               ...   \n",
       "2023-08-25    17.1167\n",
       "2023-08-26     6.5380\n",
       "2023-08-27     0.0000\n",
       "2023-08-28    19.8823\n",
       "2023-08-29     7.0380\n",
       "Freq: D, Name: distance, Length: 1026, dtype: float64"
      ]
     },
     "execution_count": 164,
     "metadata": {},
     "output_type": "execute_result"
    }
   ],
   "source": [
    "daily_distance"
   ]
  },
  {
   "cell_type": "code",
   "execution_count": 166,
   "metadata": {},
   "outputs": [
    {
     "data": {
      "text/plain": [
       "<Axes: >"
      ]
     },
     "execution_count": 166,
     "metadata": {},
     "output_type": "execute_result"
    },
    {
     "data": {
      "image/png": "[encoded data removed]",
      "text/plain": [
       "<Figure size 640x480 with 1 Axes>"
      ]
     },
     "metadata": {},
     "output_type": "display_data"
    }
   ],
   "source": [
    "calmap.yearplot(daily_distance, year=2022)"
   ]
  },
  {
   "cell_type": "code",
   "execution_count": 14,
   "metadata": {},
   "outputs": [
    {
     "name": "stdout",
     "output_type": "stream",
     "text": [
      "0 Morning Run 5 total km\n",
      "1 Afternoon Run 3 total km\n",
      "2 Afternoon Run 4 total km\n",
      "3 Afternoon Run 17 total km\n",
      "4 Afternoon Run 12 total km\n",
      "5 Afternoon Run 1 total km\n",
      "6 Lunch Run 14 total km\n",
      "7 Afternoon Run 17 total km\n",
      "8 Morning Run 6 total km\n",
      "9 Afternoon Run 11 total km\n",
      "10 Lunch Run 11 total km\n",
      "11 Afternoon Run 11 total km\n",
      "12 Evening Run 1 total km\n",
      "13 Afternoon Run 20 total km\n",
      "14 Afternoon Run 18 total km\n",
      "15 Afternoon Run 10 total km\n",
      "16 Lunch Run 13 total km\n",
      "17 Afternoon Run 20 total km\n",
      "18 Fuld blæs på skummaskinen🌪️💦 12 total km\n",
      "19 Morning Run 5 total km\n",
      "20 Lang søndag inkl. 2 x 3km tempo 31 total km\n",
      "21 Afternoon Run 14 total km\n",
      "22 Inkl. 30 min sauna💆🏻‍♂️ 10 total km\n",
      "23 Evening Squash 0 total km\n",
      "24 Afternoon Run 23 total km\n",
      "25 Afternoon Run 6 total km\n",
      "26 Lunch Run 17 total km\n",
      "27 Afternoon Run 12 total km\n",
      "28 Morning Run 21 total km\n",
      "29 Afternoon Run 11 total km\n",
      "30 Afternoon Run 21 total km\n",
      "31 Afternoon Run 8 total km\n",
      "32 Lunch Run 18 total km\n",
      "33 Afternoon Run 11 total km\n",
      "34 Morning Run 22 total km\n",
      "35 Afternoon Run 9 total km\n",
      "36 Lunch Run 15 total km\n",
      "37 Evening Run 6 total km\n",
      "38 Evening Walk 2 total km\n",
      "39 Morning Walk 6 total km\n",
      "40 Morning Run 13 total km\n",
      "41 Morning Run 9 total km\n",
      "42 Afternoon Walk 6 total km\n",
      "43 Inkl. dyp🏊‍♂️ 15 total km\n",
      "44 Lunch Walk 5 total km\n",
      "45 Morning Run 3 total km\n",
      "46 Morning Run 4 total km\n",
      "47 Morning Run 3 total km\n",
      "48 Morning Walk 8 total km\n",
      "49 Morning Run 12 total km\n",
      "50 Morning Walk 4 total km\n",
      "51 Afternoon Run 13 total km\n",
      "52 Morning Run 5 total km\n",
      "53 Morning Run 24 total km\n",
      "54 Morning Run 11 total km\n",
      "55 Lunch Ride 26 total km\n",
      "56 Lunch Run 10 total km\n",
      "57 Morning Run 5 total km\n",
      "58 Afternoon Run 10 total km\n",
      "59 Afternoon Run 9 total km\n",
      "60 Afternoon Run 11 total km\n",
      "61 Morning Run 7 total km\n",
      "62 Afternoon Run 8 total km\n",
      "63 Afternoon Ride 31 total km\n",
      "64 Morning Run 7 total km\n",
      "65 Lunch Run 10 total km\n",
      "66 Evening Run 10 total km\n",
      "67 Morning Run 10 total km\n",
      "68 Morning Run 13 total km\n",
      "69 Morning Run 5 total km\n",
      "70 Afternoon Run 20 total km\n",
      "71 Morning Run 2 total km\n",
      "72 Evening Run 8 total km\n",
      "73 Lunch Run 1 total km\n",
      "74 Morning Run 23 total km\n",
      "75 Lunch Run 13 total km\n",
      "76 Morning Run 7 total km\n",
      "77 Afternoon Ride 30 total km\n",
      "78 Lunch Run 8 total km\n",
      "79 Morning Run 25 total km\n",
      "80 Evening Run 3 total km\n",
      "81 Evening Run 2 total km\n",
      "82 Afternoon Run 2 total km\n",
      "83 Lunch Run 10 total km\n",
      "84 Afternoon Run 17 total km\n",
      "85 Lunch Run 8 total km\n",
      "86 Morning Run 16 total km\n",
      "87 Lunch Run 12 total km\n",
      "88 Lunch Run 13 total km\n",
      "89 Lunch Run 11 total km\n",
      "90 CPH Marathon pacertjans 24 total km\n",
      "91 Morning Run 3 total km\n",
      "92 Afternoon Run 5 total km\n",
      "93 Afternoon Run 6 total km\n",
      "94 Afternoon Run 15 total km\n",
      "95 Evening Run 9 total km\n",
      "96 Afternoon Run 17 total km\n",
      "97 Morning Run 21 total km\n",
      "98 Afternoon Run 9 total km\n",
      "99 Afternoon Run 19 total km\n",
      "100 Lunch Run 10 total km\n",
      "101 Den grønne 21 total km\n",
      "102 Morning Run 22 total km\n",
      "103 Inkl. 4 x 2km 17 total km\n",
      "104 Morning Run 5 total km\n",
      "105 Afternoon Run med Bæredygtigt Landbrug running club 15 total km\n",
      "106 Evening Run 5 total km\n",
      "107 Morning Run 10 total km\n",
      "108 Morning Run 5 total km\n",
      "109 Afternoon Run 11 total km\n",
      "110 Morning Run 5 total km\n",
      "111 Afternoon Run 10 total km\n",
      "112 Evening Run 13 total km\n",
      "113 Afternoon Run 10 total km\n",
      "114 Morning Run 20 total km\n",
      "115 Afternoon Run 3 total km\n",
      "116 Afternoon Run 5 total km\n",
      "117 Afternoon Run 5 total km\n",
      "118 Afternoon Run 5 total km\n",
      "119 Evening Run 14 total km\n",
      "120 Afternoon Run 12 total km\n",
      "121 Morning Run 16 total km\n",
      "122 Lunch Run 5 total km\n",
      "123 Morning Run 24 total km\n",
      "124 Afternoon Run 8 total km\n",
      "125 Afternoon Run 19 total km\n",
      "126 Afternoon Run 11 total km\n",
      "127 Afternoon Run 15 total km\n",
      "128 Evening Run 5 total km\n",
      "129 Evening Run 6 total km\n",
      "130 Morning Run 14 total km\n",
      "131 Afternoon Run 11 total km\n",
      "132 Evening Run 9 total km\n",
      "133 Evening Run 5 total km\n",
      "134 Evening Run 6 total km\n",
      "135 Evening Run 0 total km\n",
      "136 Afternoon Run 12 total km\n",
      "137 Evening Run 10 total km\n",
      "138 Morning Run 6 total km\n",
      "139 Afternoon Run 8 total km\n",
      "140 Afternoon Run 15 total km\n",
      "141 Evening Run 9 total km\n",
      "142 Afternoon Run 12 total km\n",
      "143 Afternoon Run 4 total km\n",
      "144 Morning Run 17 total km\n",
      "145 Afternoon Run 15 total km\n",
      "146 Evening Run 5 total km\n",
      "147 Afternoon Run 5 total km\n",
      "148 Afternoon Run 11 total km\n",
      "149 Morning Run 19 total km\n",
      "150 Morning Run 5 total km\n",
      "151 Afternoon Run 10 total km\n",
      "152 Evening Run 12 total km\n",
      "153 Morning Run 5 total km\n",
      "154 Evening Run 9 total km\n",
      "155 Afternoon Run 10 total km\n",
      "156 Evening Run 6 total km\n",
      "157 Evening Run 12 total km\n",
      "158 Evening Run 6 total km\n",
      "159 Evening Run 9 total km\n",
      "160 Morning Run 22 total km\n",
      "161 Afternoon Run 5 total km\n",
      "162 Morning Run 5 total km\n",
      "163 Evening Run 11 total km\n",
      "164 Afternoon Run 12 total km\n",
      "165 Morning Run 19 total km\n",
      "166 Evening Run 6 total km\n",
      "167 Afternoon Run 5 total km\n",
      "168 Lunch Run 8 total km\n",
      "169 Lunch Row 1 total km\n",
      "170 Morning Run 5 total km\n",
      "171 Lunch Run 7 total km\n",
      "172 Afternoon Run 11 total km\n",
      "173 Morning Run 6 total km\n",
      "174 Afternoon Run 17 total km\n",
      "175 Lunch Run 10 total km\n",
      "176 Evening Run 8 total km\n",
      "177 Morning Run 14 total km\n",
      "178 Afternoon Run 6 total km\n",
      "179 Evening Run 8 total km\n",
      "180 Lunch Run 5 total km\n",
      "181 Inkl. 20 x 400m 15 total km\n",
      "182 Evening Run 5 total km\n",
      "183 2 progressive på Buch loopet 10 total km\n",
      "184 Morning Run 24 total km\n",
      "185 Lunch Run 4 total km\n",
      "186 Lunch Run 1 total km\n",
      "187 Lunch Run 2 total km\n",
      "188 Afternoon Run 15 total km\n",
      "189 Afternoon Run 10 total km\n",
      "190 Afternoon Run 6 total km\n",
      "191 Lunch Run 6 total km\n",
      "192 Lunch Run 23 total km\n",
      "193 Lunch Run 12 total km\n",
      "194 Morning Run 15 total km\n",
      "195 Lunch Run 9 total km\n",
      "196 Lunch Run 13 total km\n",
      "197 Afternoon Run 6 total km\n",
      "198 Morning Run 25 total km\n",
      "199 Lunch Run 6 total km\n"
     ]
    }
   ],
   "source": [
    "for count, activity in enumerate(data):\n",
    "    print(count, activity['name'], round(activity['distance']/1000), \"total km\")"
   ]
  },
  {
   "cell_type": "code",
   "execution_count": 17,
   "metadata": {},
   "outputs": [
    {
     "data": {
      "text/plain": [
       "'_nzrIudpkAb@eDv@uDPo@f@{DNwANiABG\\\\O^Eb@?b@Dh@V`Ap@`@Lb@HLHTFp@f@VLVFPHv@Ll@PV@JJbAPxAh@n@\\\\j@DLHPDb@BJDDFR?`@NANLpAUEDFFa@DGVBF?l@QH?t@Fl@Ph@TJ@TLx@Tb@Pr@NdAf@NPBH?`@SvC?p@OnAApBGt@I~AId@BXMlAEfAWtBE|@Gb@I|BQjA?TI|@GpABv@An@I\\\\a@jACr@@`AI`A@JLZPFBDDj@C^W|AKb@INSb@OPwG~Dc@\\\\_@f@a@Xu@r@]j@]|AQ`@Q\\\\Mz@@\\\\Tn@BP@v@HZTP\\\\Hf@DNJRt@N\\\\Fx@C|AUlBK`@SDGHBV?RCR?^KhA?l@JVFD^HNAPFb@IVSf@IPMD?VRPH\\\\DHF\\\\t@@b@G`@Sf@I`@GPIH_@|@KxABXP`@PLh@Dz@?h@JFAROBILOPIVIb@ENMJUFi@@y@Eu@@_@SwA?i@Fm@AGJWh@]FId@cAHUL_ADgBPYTSXi@@k@D_@D{BFmAJm@D_AGa@[_AE[IUCe@Sy@QeAo@yBG_@[kAOQYy@w@aBKu@Co@BaAEu@@g@GsAWg@IEy@Mk@Oi@EUIUAk@Qk@?EGAIKKk@QO?_@K_@Iu@E]Bi@GoBIWIc@U[CCCAMOc@CGIGQ^GBg@MQMOUCSUg@a@]e@dAMHG@g@UYSKJo@AUKK?AABEACSASE'"
      ]
     },
     "execution_count": 17,
     "metadata": {},
     "output_type": "execute_result"
    }
   ],
   "source": [
    "data[0][\"map\"][\"summary_polyline\"]"
   ]
  },
  {
   "cell_type": "code",
   "execution_count": 23,
   "metadata": {},
   "outputs": [],
   "source": [
    "# visualise with leaflet and Streamlit\n"
   ]
  },
  {
   "cell_type": "code",
   "execution_count": 25,
   "metadata": {},
   "outputs": [],
   "source": [
    "activities = pd.json_normalize(data)\n",
    "activities['polyline_decoded']=activities['map.summary_polyline'].apply(polyline.decode)"
   ]
  },
  {
   "cell_type": "code",
   "execution_count": 57,
   "metadata": {},
   "outputs": [],
   "source": [
    "activities['pace(min/km)'] = round((activities['moving_time']/60)/activities['distance']*1000,2)"
   ]
  },
  {
   "cell_type": "code",
   "execution_count": 58,
   "metadata": {},
   "outputs": [
    {
     "data": {
      "text/html": [
       "<div style=\"width:100%;\"><div style=\"position:relative;width:100%;height:0;padding-bottom:60%;\"><span style=\"color:#565656\">Make this Notebook Trusted to load map: File -> Trust Notebook</span><iframe srcdoc=\"&lt;!DOCTYPE html&gt;\n",
       "&lt;html&gt;\n",
       "&lt;head&gt;\n",
       "    \n",
       "    &lt;meta http-equiv=&quot;content-type&quot; content=&quot;text/html; charset=UTF-8&quot; /&gt;\n",
       "    \n",
       "        &lt;script&gt;\n",
       "            L_NO_TOUCH = false;\n",
       "            L_DISABLE_3D = false;\n",
       "        &lt;/script&gt;\n",
       "    \n",
       "    &lt;style&gt;html, body {width: 100%;height: 100%;margin: 0;padding: 0;}&lt;/style&gt;\n",
       "    &lt;style&gt;#map {position:absolute;top:0;bottom:0;right:0;left:0;}&lt;/style&gt;\n",
       "    &lt;script src=&quot;https://cdn.jsdelivr.net/npm/leaflet@1.9.3/dist/leaflet.js&quot;&gt;&lt;/script&gt;\n",
       "    &lt;script src=&quot;https://code.jquery.com/jquery-1.12.4.min.js&quot;&gt;&lt;/script&gt;\n",
       "    &lt;script src=&quot;https://cdn.jsdelivr.net/npm/bootstrap@5.2.2/dist/js/bootstrap.bundle.min.js&quot;&gt;&lt;/script&gt;\n",
       "    &lt;script src=&quot;https://cdnjs.cloudflare.com/ajax/libs/Leaflet.awesome-markers/2.0.2/leaflet.awesome-markers.js&quot;&gt;&lt;/script&gt;\n",
       "    &lt;link rel=&quot;stylesheet&quot; href=&quot;https://cdn.jsdelivr.net/npm/leaflet@1.9.3/dist/leaflet.css&quot;/&gt;\n",
       "    &lt;link rel=&quot;stylesheet&quot; href=&quot;https://cdn.jsdelivr.net/npm/bootstrap@5.2.2/dist/css/bootstrap.min.css&quot;/&gt;\n",
       "    &lt;link rel=&quot;stylesheet&quot; href=&quot;https://netdna.bootstrapcdn.com/bootstrap/3.0.0/css/bootstrap.min.css&quot;/&gt;\n",
       "    &lt;link rel=&quot;stylesheet&quot; href=&quot;https://cdn.jsdelivr.net/npm/@fortawesome/fontawesome-free@6.2.0/css/all.min.css&quot;/&gt;\n",
       "    &lt;link rel=&quot;stylesheet&quot; href=&quot;https://cdnjs.cloudflare.com/ajax/libs/Leaflet.awesome-markers/2.0.2/leaflet.awesome-markers.css&quot;/&gt;\n",
       "    &lt;link rel=&quot;stylesheet&quot; href=&quot;https://cdn.jsdelivr.net/gh/python-visualization/folium/folium/templates/leaflet.awesome.rotate.min.css&quot;/&gt;\n",
       "    \n",
       "            &lt;meta name=&quot;viewport&quot; content=&quot;width=device-width,\n",
       "                initial-scale=1.0, maximum-scale=1.0, user-scalable=no&quot; /&gt;\n",
       "            &lt;style&gt;\n",
       "                #map_39cd7edfabe54c29e48d0988218defdd {\n",
       "                    position: relative;\n",
       "                    width: 100.0%;\n",
       "                    height: 100.0%;\n",
       "                    left: 0.0%;\n",
       "                    top: 0.0%;\n",
       "                }\n",
       "                .leaflet-container { font-size: 1rem; }\n",
       "            &lt;/style&gt;\n",
       "        \n",
       "&lt;/head&gt;\n",
       "&lt;body&gt;\n",
       "    \n",
       "    \n",
       "            &lt;div class=&quot;folium-map&quot; id=&quot;map_39cd7edfabe54c29e48d0988218defdd&quot; &gt;&lt;/div&gt;\n",
       "        \n",
       "&lt;/body&gt;\n",
       "&lt;script&gt;\n",
       "    \n",
       "    \n",
       "            var map_39cd7edfabe54c29e48d0988218defdd = L.map(\n",
       "                &quot;map_39cd7edfabe54c29e48d0988218defdd&quot;,\n",
       "                {\n",
       "                    center: [55.67665142857146, 12.531564942084938],\n",
       "                    crs: L.CRS.EPSG3857,\n",
       "                    zoom: 14,\n",
       "                    zoomControl: true,\n",
       "                    preferCanvas: false,\n",
       "                }\n",
       "            );\n",
       "\n",
       "            \n",
       "\n",
       "        \n",
       "    \n",
       "            var tile_layer_6f01e172717ee33ff8bf1cf022445aba = L.tileLayer(\n",
       "                &quot;https://{s}.tile.openstreetmap.org/{z}/{x}/{y}.png&quot;,\n",
       "                {&quot;attribution&quot;: &quot;Data by \\u0026copy; \\u003ca target=\\&quot;_blank\\&quot; href=\\&quot;http://openstreetmap.org\\&quot;\\u003eOpenStreetMap\\u003c/a\\u003e, under \\u003ca target=\\&quot;_blank\\&quot; href=\\&quot;http://www.openstreetmap.org/copyright\\&quot;\\u003eODbL\\u003c/a\\u003e.&quot;, &quot;detectRetina&quot;: false, &quot;maxNativeZoom&quot;: 18, &quot;maxZoom&quot;: 18, &quot;minZoom&quot;: 0, &quot;noWrap&quot;: false, &quot;opacity&quot;: 1, &quot;subdomains&quot;: &quot;abc&quot;, &quot;tms&quot;: false}\n",
       "            ).addTo(map_39cd7edfabe54c29e48d0988218defdd);\n",
       "        \n",
       "    \n",
       "            var poly_line_d0ac1a2e35ac355665cb3c624ae23635 = L.polyline(\n",
       "                [[55.6824, 12.53979], [55.68222, 12.54062], [55.68194, 12.54153], [55.68185, 12.54177], [55.68165, 12.54271], [55.68157, 12.54315], [55.68149, 12.54352], [55.68147, 12.54356], [55.68132, 12.54364], [55.68116, 12.54367], [55.68098, 12.54367], [55.6808, 12.54364], [55.68059, 12.54352], [55.68026, 12.54327], [55.68009, 12.5432], [55.67991, 12.54315], [55.67984, 12.5431], [55.67973, 12.54306], [55.67948, 12.54286], [55.67936, 12.54279], [55.67924, 12.54275], [55.67915, 12.5427], [55.67887, 12.54263], [55.67864, 12.54254], [55.67852, 12.54253], [55.67846, 12.54247], [55.67812, 12.54238], [55.67767, 12.54217], [55.67743, 12.54202], [55.67721, 12.54199], [55.67714, 12.54194], [55.67705, 12.54191], [55.67687, 12.54189], [55.67681, 12.54186], [55.67678, 12.54182], [55.67668, 12.54182], [55.67651, 12.54174], [55.67652, 12.54166], [55.67645, 12.54125], [55.67656, 12.54128], [55.67653, 12.54124], [55.67649, 12.54141], [55.67646, 12.54145], [55.67634, 12.54143], [55.6763, 12.54143], [55.67607, 12.54152], [55.67602, 12.54152], [55.67575, 12.54148], [55.67552, 12.54139], [55.67531, 12.54128], [55.67525, 12.54127], [55.67514, 12.5412], [55.67485, 12.54109], [55.67467, 12.541], [55.67441, 12.54092], [55.67406, 12.54072], [55.67398, 12.54063], [55.67396, 12.54058], [55.67396, 12.54041], [55.67406, 12.53965], [55.67406, 12.5394], [55.67414, 12.539], [55.67415, 12.53843], [55.67419, 12.53816], [55.67424, 12.53768], [55.67429, 12.53749], [55.67427, 12.53736], [55.67434, 12.53697], [55.67437, 12.53661], [55.67449, 12.53602], [55.67452, 12.53571], [55.67456, 12.53553], [55.67461, 12.5349], [55.6747, 12.53452], [55.6747, 12.53441], [55.67475, 12.5341], [55.67479, 12.53369], [55.67477, 12.53341], [55.67478, 12.53317], [55.67483, 12.53302], [55.675, 12.53264], [55.67502, 12.53238], [55.67501, 12.53205], [55.67506, 12.53172], [55.67505, 12.53166], [55.67498, 12.53152], [55.67489, 12.53148], [55.67487, 12.53145], [55.67484, 12.53123], [55.67486, 12.53107], [55.67498, 12.5306], [55.67504, 12.53042], [55.67509, 12.53034], [55.67519, 12.53016], [55.67527, 12.53007], [55.67667, 12.52911], [55.67685, 12.52896], [55.67701, 12.52876], [55.67718, 12.52863], [55.67745, 12.52837], [55.6776, 12.52815], [55.67775, 12.52768], [55.67784, 12.52751], [55.67793, 12.52736], [55.678, 12.52706], [55.67799, 12.52691], [55.67788, 12.52667], [55.67786, 12.52658], [55.67785, 12.5263], [55.6778, 12.52616], [55.67769, 12.52607], [55.67754, 12.52602], [55.67734, 12.52599], [55.67726, 12.52593], [55.67716, 12.52566], [55.67708, 12.52551], [55.67704, 12.52522], [55.67706, 12.52475], [55.67717, 12.5242], [55.67723, 12.52403], [55.67733, 12.524], [55.67737, 12.52395], [55.67735, 12.52383], [55.67735, 12.52373], [55.67737, 12.52363], [55.67737, 12.52347], [55.67743, 12.5231], [55.67743, 12.52287], [55.67737, 12.52275], [55.67733, 12.52272], [55.67717, 12.52267], [55.67709, 12.52268], [55.677, 12.52264], [55.67682, 12.52269], [55.6767, 12.52279], [55.6765, 12.52284], [55.67641, 12.52291], [55.67638, 12.52291], [55.67626, 12.52281], [55.67617, 12.52276], [55.67602, 12.52273], [55.67597, 12.52269], [55.67582, 12.52242], [55.67581, 12.52224], [55.67585, 12.52207], [55.67595, 12.52187], [55.676, 12.5217], [55.67604, 12.52161], [55.67609, 12.52156], [55.67625, 12.52125], [55.67631, 12.5208], [55.67629, 12.52067], [55.6762, 12.5205], [55.67611, 12.52043], [55.6759, 12.5204], [55.6756, 12.5204], [55.67539, 12.52034], [55.67535, 12.52035], [55.67525, 12.52043], [55.67523, 12.52048], [55.67516, 12.52056], [55.67507, 12.52061], [55.67495, 12.52066], [55.67477, 12.52069], [55.67469, 12.52076], [55.67463, 12.52087], [55.67459, 12.52108], [55.67458, 12.52137], [55.67461, 12.52164], [55.6746, 12.5218], [55.6747, 12.52224], [55.6747, 12.52245], [55.67466, 12.52268], [55.67467, 12.52272], [55.67461, 12.52284], [55.6744, 12.52299], [55.67436, 12.52304], [55.67417, 12.52338], [55.67412, 12.52349], [55.67405, 12.52381], [55.67402, 12.52433], [55.67393, 12.52446], [55.67382, 12.52456], [55.67369, 12.52477], [55.67368, 12.52499], [55.67365, 12.52515], [55.67362, 12.52577], [55.67358, 12.52616], [55.67352, 12.52639], [55.67349, 12.52671], [55.67353, 12.52688], [55.67367, 12.5272], [55.6737, 12.52734], [55.67375, 12.52745], [55.67377, 12.52764], [55.67387, 12.52793], [55.67396, 12.52828], [55.6742, 12.52889], [55.67424, 12.52905], [55.67438, 12.52943], [55.67446, 12.52952], [55.67459, 12.52981], [55.67487, 12.5303], [55.67493, 12.53057], [55.67495, 12.53081], [55.67493, 12.53114], [55.67496, 12.53141], [55.67495, 12.53161], [55.67499, 12.53203], [55.67511, 12.53223], [55.67516, 12.53226], [55.67545, 12.53233], [55.67567, 12.53241], [55.67588, 12.53244], [55.67599, 12.53249], [55.6761, 12.5325], [55.67632, 12.53259], [55.67654, 12.53259], [55.67657, 12.53263], [55.67658, 12.53268], [55.67664, 12.53274], [55.67686, 12.53283], [55.67694, 12.53283], [55.6771, 12.53289], [55.67726, 12.53294], [55.67753, 12.53297], [55.67768, 12.53295], [55.67789, 12.53299], [55.67845, 12.53304], [55.67857, 12.53309], [55.67875, 12.5332], [55.67889, 12.53322], [55.67891, 12.53324], [55.67892, 12.53331], [55.679, 12.53349], [55.67902, 12.53353], [55.67907, 12.53357], [55.67916, 12.53341], [55.6792, 12.53339], [55.6794, 12.53346], [55.67949, 12.53353], [55.67957, 12.53364], [55.67959, 12.53374], [55.6797, 12.53394], [55.67987, 12.53409], [55.68006, 12.53374], [55.68013, 12.53369], [55.68017, 12.53368], [55.68037, 12.53379], [55.6805, 12.53389], [55.68056, 12.53383], [55.6808, 12.53384], [55.68091, 12.5339], [55.68097, 12.5339], [55.68098, 12.53391], [55.68096, 12.53394], [55.68097, 12.53396], [55.68107, 12.53397], [55.68117, 12.534]],\n",
       "                {&quot;bubblingMouseEvents&quot;: true, &quot;color&quot;: &quot;green&quot;, &quot;dashArray&quot;: null, &quot;dashOffset&quot;: null, &quot;fill&quot;: false, &quot;fillColor&quot;: &quot;green&quot;, &quot;fillOpacity&quot;: 0.2, &quot;fillRule&quot;: &quot;evenodd&quot;, &quot;lineCap&quot;: &quot;round&quot;, &quot;lineJoin&quot;: &quot;round&quot;, &quot;noClip&quot;: false, &quot;opacity&quot;: 1.0, &quot;smoothFactor&quot;: 1.0, &quot;stroke&quot;: true, &quot;weight&quot;: 3}\n",
       "            ).addTo(map_39cd7edfabe54c29e48d0988218defdd);\n",
       "        \n",
       "&lt;/script&gt;\n",
       "&lt;/html&gt;\" style=\"position:absolute;width:100%;height:100%;left:0;top:0;border:none !important;\" allowfullscreen webkitallowfullscreen mozallowfullscreen></iframe></div></div>"
      ],
      "text/plain": [
       "<folium.folium.Map at 0x12e8dd870>"
      ]
     },
     "metadata": {},
     "output_type": "display_data"
    }
   ],
   "source": [
    "example = activities.iloc[0]\n",
    "\n",
    "# plot map \n",
    "m = folium.Map(location=[np.mean(example['polyline_decoded'], axis=0)[0], np.mean(example['polyline_decoded'], axis=0)[1]], zoom_start=14)\n",
    "folium.PolyLine(example['polyline_decoded'], color=\"green\").add_to(m)\n",
    "display(m)"
   ]
  },
  {
   "cell_type": "code",
   "execution_count": 59,
   "metadata": {},
   "outputs": [
    {
     "data": {
      "text/plain": [
       "resource_state                                                                   2\n",
       "name                                                                   Morning Run\n",
       "distance                                                                    5272.5\n",
       "moving_time                                                                   1563\n",
       "elapsed_time                                                                  1673\n",
       "total_elevation_gain                                                          10.0\n",
       "type                                                                           Run\n",
       "sport_type                                                                     Run\n",
       "workout_type                                                                   NaN\n",
       "id                                                                      9734779118\n",
       "start_date                                                    2023-08-28T06:25:35Z\n",
       "start_date_local                                              2023-08-28T08:25:35Z\n",
       "timezone                                             (GMT+01:00) Europe/Copenhagen\n",
       "utc_offset                                                                  7200.0\n",
       "location_city                                                                 None\n",
       "location_state                                                                None\n",
       "location_country                                                              None\n",
       "achievement_count                                                                0\n",
       "kudos_count                                                                      0\n",
       "comment_count                                                                    0\n",
       "athlete_count                                                                    1\n",
       "photo_count                                                                      0\n",
       "trainer                                                                      False\n",
       "commute                                                                      False\n",
       "manual                                                                       False\n",
       "private                                                                      False\n",
       "visibility                                                                everyone\n",
       "flagged                                                                      False\n",
       "gear_id                                                                       None\n",
       "start_latlng                               [55.68313054740429, 12.536043031141162]\n",
       "end_latlng                                [55.683236913755536, 12.535086320713162]\n",
       "average_speed                                                                3.373\n",
       "max_speed                                                                     7.09\n",
       "average_cadence                                                               86.8\n",
       "average_temp                                                                  22.0\n",
       "has_heartrate                                                                False\n",
       "heartrate_opt_out                                                            False\n",
       "display_hide_heartrate_option                                                False\n",
       "elev_high                                                                     -4.2\n",
       "elev_low                                                                     -14.8\n",
       "upload_id                                                            10436689927.0\n",
       "upload_id_str                                                          10436689927\n",
       "external_id                                               garmin_ping_291713708840\n",
       "from_accepted_tag                                                            False\n",
       "pr_count                                                                         0\n",
       "total_photo_count                                                                0\n",
       "has_kudoed                                                                   False\n",
       "athlete.id                                                                71203772\n",
       "athlete.resource_state                                                           1\n",
       "map.id                                                                 a9734779118\n",
       "map.summary_polyline             _nzrIudpkAb@eDv@uDPo@f@{DNwANiABG\\O^Eb@?b@Dh@V...\n",
       "map.resource_state                                                               2\n",
       "polyline_decoded                 [(55.6824, 12.53979), (55.68222, 12.54062), (5...\n",
       "pace(min/km)                                                                  4.94\n",
       "Name: 0, dtype: object"
      ]
     },
     "execution_count": 59,
     "metadata": {},
     "output_type": "execute_result"
    }
   ],
   "source": [
    "example"
   ]
  },
  {
   "cell_type": "code",
   "execution_count": null,
   "metadata": {},
   "outputs": [],
   "source": []
  }
 ],
 "metadata": {
  "kernelspec": {
   "display_name": "venv",
   "language": "python",
   "name": "python3"
  },
  "language_info": {
   "codemirror_mode": {
    "name": "ipython",
    "version": 3
   },
   "file_extension": ".py",
   "mimetype": "text/x-python",
   "name": "python",
   "nbconvert_exporter": "python",
   "pygments_lexer": "ipython3",
   "version": "3.10.9"
  },
  "orig_nbformat": 4
 },
 "nbformat": 4,
 "nbformat_minor": 2
}
